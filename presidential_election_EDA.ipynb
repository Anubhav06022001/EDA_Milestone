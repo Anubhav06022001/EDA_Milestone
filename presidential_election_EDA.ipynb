{
 "cells": [
  {
   "cell_type": "code",
   "execution_count": 1,
   "metadata": {},
   "outputs": [],
   "source": [
    "import pandas as pd\n",
    "import numpy as np\n",
    "import seaborn as sns\n",
    "import matplotlib.pyplot as plt\n",
    "\n",
    "\n",
    "\n",
    "import warnings\n",
    "warnings.filterwarnings('ignore')"
   ]
  },
  {
   "cell_type": "code",
   "execution_count": 3,
   "metadata": {},
   "outputs": [
    {
     "data": {
      "text/html": [
       "<div>\n",
       "<style scoped>\n",
       "    .dataframe tbody tr th:only-of-type {\n",
       "        vertical-align: middle;\n",
       "    }\n",
       "\n",
       "    .dataframe tbody tr th {\n",
       "        vertical-align: top;\n",
       "    }\n",
       "\n",
       "    .dataframe thead th {\n",
       "        text-align: right;\n",
       "    }\n",
       "</style>\n",
       "<table border=\"1\" class=\"dataframe\">\n",
       "  <thead>\n",
       "    <tr style=\"text-align: right;\">\n",
       "      <th></th>\n",
       "      <th>id</th>\n",
       "      <th>sex</th>\n",
       "      <th>age</th>\n",
       "      <th>federal_district</th>\n",
       "      <th>type_of_city</th>\n",
       "      <th>knows_election_date</th>\n",
       "      <th>will_vote</th>\n",
       "      <th>candidate</th>\n",
       "      <th>television_usage</th>\n",
       "      <th>internet_usage</th>\n",
       "      <th>education</th>\n",
       "      <th>income</th>\n",
       "      <th>employment</th>\n",
       "      <th>job_type</th>\n",
       "      <th>company_type</th>\n",
       "      <th>weight1</th>\n",
       "    </tr>\n",
       "  </thead>\n",
       "  <tbody>\n",
       "    <tr>\n",
       "      <th>0</th>\n",
       "      <td>07169ed8148ce047</td>\n",
       "      <td>male</td>\n",
       "      <td>18.0</td>\n",
       "      <td>north caucasian</td>\n",
       "      <td>village</td>\n",
       "      <td>named correct date</td>\n",
       "      <td>not sure</td>\n",
       "      <td>Putin</td>\n",
       "      <td>several times a week</td>\n",
       "      <td>over 4 hours a day</td>\n",
       "      <td>incomplete school education</td>\n",
       "      <td>very high</td>\n",
       "      <td>entrepreneur</td>\n",
       "      <td>NaN</td>\n",
       "      <td>farming</td>\n",
       "      <td>1.445172</td>\n",
       "    </tr>\n",
       "    <tr>\n",
       "      <th>1</th>\n",
       "      <td>0716a4f3354cecdd</td>\n",
       "      <td>male</td>\n",
       "      <td>23.0</td>\n",
       "      <td>north caucasian</td>\n",
       "      <td>village</td>\n",
       "      <td>named correct date</td>\n",
       "      <td>not sure</td>\n",
       "      <td>Putin</td>\n",
       "      <td>once half a year</td>\n",
       "      <td>over 4 hours a day</td>\n",
       "      <td>college</td>\n",
       "      <td>very high</td>\n",
       "      <td>work for hire</td>\n",
       "      <td>commercial organization</td>\n",
       "      <td>trade</td>\n",
       "      <td>1.445172</td>\n",
       "    </tr>\n",
       "    <tr>\n",
       "      <th>2</th>\n",
       "      <td>0716889b304ce79c</td>\n",
       "      <td>male</td>\n",
       "      <td>20.0</td>\n",
       "      <td>volga</td>\n",
       "      <td>city with population of less than 50k</td>\n",
       "      <td>named correct date</td>\n",
       "      <td>definitely yes</td>\n",
       "      <td>Putin</td>\n",
       "      <td>several times a week</td>\n",
       "      <td>over 4 hours a day</td>\n",
       "      <td>college</td>\n",
       "      <td>very high</td>\n",
       "      <td>work for hire</td>\n",
       "      <td>law enforcement agency</td>\n",
       "      <td>law enforcement agency</td>\n",
       "      <td>1.301691</td>\n",
       "    </tr>\n",
       "    <tr>\n",
       "      <th>3</th>\n",
       "      <td>07168e28b5cce563</td>\n",
       "      <td>male</td>\n",
       "      <td>22.0</td>\n",
       "      <td>northwestern</td>\n",
       "      <td>city with population of 1 million and higher</td>\n",
       "      <td>not sure or no answer</td>\n",
       "      <td>not sure</td>\n",
       "      <td>Davankov</td>\n",
       "      <td>several times a week</td>\n",
       "      <td>over 4 hours a day</td>\n",
       "      <td>college</td>\n",
       "      <td>very high</td>\n",
       "      <td>unemployed</td>\n",
       "      <td>NaN</td>\n",
       "      <td>NaN</td>\n",
       "      <td>1.538628</td>\n",
       "    </tr>\n",
       "    <tr>\n",
       "      <th>4</th>\n",
       "      <td>0716a563914ce549</td>\n",
       "      <td>male</td>\n",
       "      <td>21.0</td>\n",
       "      <td>southern</td>\n",
       "      <td>city with population of 1 million and higher</td>\n",
       "      <td>named correct date</td>\n",
       "      <td>definitely yes</td>\n",
       "      <td>Putin</td>\n",
       "      <td>does not watch</td>\n",
       "      <td>over 4 hours a day</td>\n",
       "      <td>bachelor degree</td>\n",
       "      <td>very high</td>\n",
       "      <td>employed student</td>\n",
       "      <td>commercial organization</td>\n",
       "      <td>tech, programming, communications</td>\n",
       "      <td>1.967015</td>\n",
       "    </tr>\n",
       "    <tr>\n",
       "      <th>...</th>\n",
       "      <td>...</td>\n",
       "      <td>...</td>\n",
       "      <td>...</td>\n",
       "      <td>...</td>\n",
       "      <td>...</td>\n",
       "      <td>...</td>\n",
       "      <td>...</td>\n",
       "      <td>...</td>\n",
       "      <td>...</td>\n",
       "      <td>...</td>\n",
       "      <td>...</td>\n",
       "      <td>...</td>\n",
       "      <td>...</td>\n",
       "      <td>...</td>\n",
       "      <td>...</td>\n",
       "      <td>...</td>\n",
       "    </tr>\n",
       "    <tr>\n",
       "      <th>1595</th>\n",
       "      <td>0716b23c2c0cee3a</td>\n",
       "      <td>male</td>\n",
       "      <td>61.0</td>\n",
       "      <td>central</td>\n",
       "      <td>settlement</td>\n",
       "      <td>named correct date</td>\n",
       "      <td>definitely no</td>\n",
       "      <td>will not take part</td>\n",
       "      <td>over 4 hours a day</td>\n",
       "      <td>less than 4 hours a day</td>\n",
       "      <td>bachelor degree</td>\n",
       "      <td>hard to say</td>\n",
       "      <td>unemployed pensioner</td>\n",
       "      <td>NaN</td>\n",
       "      <td>NaN</td>\n",
       "      <td>1.270761</td>\n",
       "    </tr>\n",
       "    <tr>\n",
       "      <th>1596</th>\n",
       "      <td>07168254d14ceb55</td>\n",
       "      <td>female</td>\n",
       "      <td>80.0</td>\n",
       "      <td>volga</td>\n",
       "      <td>village</td>\n",
       "      <td>named correct date</td>\n",
       "      <td>likely yes</td>\n",
       "      <td>struggle to answer</td>\n",
       "      <td>several times a week</td>\n",
       "      <td>does not use internet</td>\n",
       "      <td>college</td>\n",
       "      <td>hard to say</td>\n",
       "      <td>unemployed pensioner</td>\n",
       "      <td>NaN</td>\n",
       "      <td>NaN</td>\n",
       "      <td>0.921724</td>\n",
       "    </tr>\n",
       "    <tr>\n",
       "      <th>1597</th>\n",
       "      <td>071690f34d4ce164</td>\n",
       "      <td>female</td>\n",
       "      <td>76.0</td>\n",
       "      <td>northwestern</td>\n",
       "      <td>city with population of 50-100k</td>\n",
       "      <td>named correct date</td>\n",
       "      <td>definitely yes</td>\n",
       "      <td>Putin</td>\n",
       "      <td>does not watch</td>\n",
       "      <td>over 4 hours a day</td>\n",
       "      <td>bachelor degree</td>\n",
       "      <td>hard to say</td>\n",
       "      <td>unemployed pensioner</td>\n",
       "      <td>NaN</td>\n",
       "      <td>NaN</td>\n",
       "      <td>1.396691</td>\n",
       "    </tr>\n",
       "    <tr>\n",
       "      <th>1598</th>\n",
       "      <td>0716bfa9c48ce79a</td>\n",
       "      <td>female</td>\n",
       "      <td>74.0</td>\n",
       "      <td>central</td>\n",
       "      <td>city with population of less than 50k</td>\n",
       "      <td>not sure or no answer</td>\n",
       "      <td>definitely yes</td>\n",
       "      <td>Putin</td>\n",
       "      <td>over 4 hours a day</td>\n",
       "      <td>over 4 hours a day</td>\n",
       "      <td>academic degree</td>\n",
       "      <td>hard to say</td>\n",
       "      <td>employed pensioner</td>\n",
       "      <td>commercial organization</td>\n",
       "      <td>industry, manufacturing</td>\n",
       "      <td>0.995849</td>\n",
       "    </tr>\n",
       "    <tr>\n",
       "      <th>1599</th>\n",
       "      <td>07168088318cef88</td>\n",
       "      <td>female</td>\n",
       "      <td>76.0</td>\n",
       "      <td>ural</td>\n",
       "      <td>village</td>\n",
       "      <td>named correct date</td>\n",
       "      <td>definitely yes</td>\n",
       "      <td>Putin</td>\n",
       "      <td>over 4 hours a day</td>\n",
       "      <td>over 4 hours a day</td>\n",
       "      <td>school</td>\n",
       "      <td>hard to say</td>\n",
       "      <td>unemployed pensioner</td>\n",
       "      <td>NaN</td>\n",
       "      <td>NaN</td>\n",
       "      <td>0.860836</td>\n",
       "    </tr>\n",
       "  </tbody>\n",
       "</table>\n",
       "<p>1600 rows × 16 columns</p>\n",
       "</div>"
      ],
      "text/plain": [
       "                    id     sex   age federal_district  \\\n",
       "0     07169ed8148ce047    male  18.0  north caucasian   \n",
       "1     0716a4f3354cecdd    male  23.0  north caucasian   \n",
       "2     0716889b304ce79c    male  20.0            volga   \n",
       "3     07168e28b5cce563    male  22.0     northwestern   \n",
       "4     0716a563914ce549    male  21.0         southern   \n",
       "...                ...     ...   ...              ...   \n",
       "1595  0716b23c2c0cee3a    male  61.0          central   \n",
       "1596  07168254d14ceb55  female  80.0            volga   \n",
       "1597  071690f34d4ce164  female  76.0     northwestern   \n",
       "1598  0716bfa9c48ce79a  female  74.0          central   \n",
       "1599  07168088318cef88  female  76.0             ural   \n",
       "\n",
       "                                      type_of_city    knows_election_date  \\\n",
       "0                                          village     named correct date   \n",
       "1                                          village     named correct date   \n",
       "2            city with population of less than 50k     named correct date   \n",
       "3     city with population of 1 million and higher  not sure or no answer   \n",
       "4     city with population of 1 million and higher     named correct date   \n",
       "...                                            ...                    ...   \n",
       "1595                                    settlement     named correct date   \n",
       "1596                                       village     named correct date   \n",
       "1597               city with population of 50-100k     named correct date   \n",
       "1598         city with population of less than 50k  not sure or no answer   \n",
       "1599                                       village     named correct date   \n",
       "\n",
       "           will_vote           candidate      television_usage  \\\n",
       "0           not sure               Putin  several times a week   \n",
       "1           not sure               Putin      once half a year   \n",
       "2     definitely yes               Putin  several times a week   \n",
       "3           not sure            Davankov  several times a week   \n",
       "4     definitely yes               Putin        does not watch   \n",
       "...              ...                 ...                   ...   \n",
       "1595   definitely no  will not take part    over 4 hours a day   \n",
       "1596      likely yes  struggle to answer  several times a week   \n",
       "1597  definitely yes               Putin        does not watch   \n",
       "1598  definitely yes               Putin    over 4 hours a day   \n",
       "1599  definitely yes               Putin    over 4 hours a day   \n",
       "\n",
       "               internet_usage                    education       income  \\\n",
       "0          over 4 hours a day  incomplete school education    very high   \n",
       "1          over 4 hours a day                      college    very high   \n",
       "2          over 4 hours a day                      college    very high   \n",
       "3          over 4 hours a day                      college    very high   \n",
       "4          over 4 hours a day              bachelor degree    very high   \n",
       "...                       ...                          ...          ...   \n",
       "1595  less than 4 hours a day              bachelor degree  hard to say   \n",
       "1596    does not use internet                      college  hard to say   \n",
       "1597       over 4 hours a day              bachelor degree  hard to say   \n",
       "1598       over 4 hours a day              academic degree  hard to say   \n",
       "1599       over 4 hours a day                       school  hard to say   \n",
       "\n",
       "                employment                 job_type  \\\n",
       "0             entrepreneur                      NaN   \n",
       "1            work for hire  commercial organization   \n",
       "2            work for hire   law enforcement agency   \n",
       "3               unemployed                      NaN   \n",
       "4         employed student  commercial organization   \n",
       "...                    ...                      ...   \n",
       "1595  unemployed pensioner                      NaN   \n",
       "1596  unemployed pensioner                      NaN   \n",
       "1597  unemployed pensioner                      NaN   \n",
       "1598    employed pensioner  commercial organization   \n",
       "1599  unemployed pensioner                      NaN   \n",
       "\n",
       "                           company_type   weight1  \n",
       "0                               farming  1.445172  \n",
       "1                                 trade  1.445172  \n",
       "2                law enforcement agency  1.301691  \n",
       "3                                   NaN  1.538628  \n",
       "4     tech, programming, communications  1.967015  \n",
       "...                                 ...       ...  \n",
       "1595                                NaN  1.270761  \n",
       "1596                                NaN  0.921724  \n",
       "1597                                NaN  1.396691  \n",
       "1598            industry, manufacturing  0.995849  \n",
       "1599                                NaN  0.860836  \n",
       "\n",
       "[1600 rows x 16 columns]"
      ]
     },
     "execution_count": 3,
     "metadata": {},
     "output_type": "execute_result"
    }
   ],
   "source": [
    "df=pd.read_csv('election2024.csv')\n",
    "df"
   ]
  },
  {
   "cell_type": "code",
   "execution_count": 5,
   "metadata": {},
   "outputs": [
    {
     "data": {
      "text/plain": [
       "Index(['id', 'sex', 'age', 'federal_district', 'type_of_city',\n",
       "       'knows_election_date', 'will_vote', 'candidate', 'television_usage',\n",
       "       'internet_usage', 'education', 'income', 'employment', 'job_type',\n",
       "       'company_type', 'weight1'],\n",
       "      dtype='object')"
      ]
     },
     "execution_count": 5,
     "metadata": {},
     "output_type": "execute_result"
    }
   ],
   "source": [
    "df.columns"
   ]
  },
  {
   "cell_type": "code",
   "execution_count": 11,
   "metadata": {},
   "outputs": [
    {
     "data": {
      "text/plain": [
       "25600"
      ]
     },
     "execution_count": 11,
     "metadata": {},
     "output_type": "execute_result"
    }
   ],
   "source": [
    "df.size"
   ]
  },
  {
   "cell_type": "code",
   "execution_count": 13,
   "metadata": {},
   "outputs": [
    {
     "data": {
      "text/plain": [
       "(1600, 16)"
      ]
     },
     "execution_count": 13,
     "metadata": {},
     "output_type": "execute_result"
    }
   ],
   "source": [
    "df.shape"
   ]
  },
  {
   "cell_type": "code",
   "execution_count": 6,
   "metadata": {},
   "outputs": [
    {
     "data": {
      "text/html": [
       "<div>\n",
       "<style scoped>\n",
       "    .dataframe tbody tr th:only-of-type {\n",
       "        vertical-align: middle;\n",
       "    }\n",
       "\n",
       "    .dataframe tbody tr th {\n",
       "        vertical-align: top;\n",
       "    }\n",
       "\n",
       "    .dataframe thead th {\n",
       "        text-align: right;\n",
       "    }\n",
       "</style>\n",
       "<table border=\"1\" class=\"dataframe\">\n",
       "  <thead>\n",
       "    <tr style=\"text-align: right;\">\n",
       "      <th></th>\n",
       "      <th>id</th>\n",
       "      <th>sex</th>\n",
       "      <th>age</th>\n",
       "      <th>federal_district</th>\n",
       "      <th>type_of_city</th>\n",
       "      <th>knows_election_date</th>\n",
       "      <th>will_vote</th>\n",
       "      <th>candidate</th>\n",
       "      <th>television_usage</th>\n",
       "      <th>internet_usage</th>\n",
       "      <th>education</th>\n",
       "      <th>income</th>\n",
       "      <th>employment</th>\n",
       "      <th>job_type</th>\n",
       "      <th>company_type</th>\n",
       "      <th>weight1</th>\n",
       "    </tr>\n",
       "  </thead>\n",
       "  <tbody>\n",
       "    <tr>\n",
       "      <th>0</th>\n",
       "      <td>07169ed8148ce047</td>\n",
       "      <td>male</td>\n",
       "      <td>18.0</td>\n",
       "      <td>north caucasian</td>\n",
       "      <td>village</td>\n",
       "      <td>named correct date</td>\n",
       "      <td>not sure</td>\n",
       "      <td>Putin</td>\n",
       "      <td>several times a week</td>\n",
       "      <td>over 4 hours a day</td>\n",
       "      <td>incomplete school education</td>\n",
       "      <td>very high</td>\n",
       "      <td>entrepreneur</td>\n",
       "      <td>NaN</td>\n",
       "      <td>farming</td>\n",
       "      <td>1.445172</td>\n",
       "    </tr>\n",
       "    <tr>\n",
       "      <th>1</th>\n",
       "      <td>0716a4f3354cecdd</td>\n",
       "      <td>male</td>\n",
       "      <td>23.0</td>\n",
       "      <td>north caucasian</td>\n",
       "      <td>village</td>\n",
       "      <td>named correct date</td>\n",
       "      <td>not sure</td>\n",
       "      <td>Putin</td>\n",
       "      <td>once half a year</td>\n",
       "      <td>over 4 hours a day</td>\n",
       "      <td>college</td>\n",
       "      <td>very high</td>\n",
       "      <td>work for hire</td>\n",
       "      <td>commercial organization</td>\n",
       "      <td>trade</td>\n",
       "      <td>1.445172</td>\n",
       "    </tr>\n",
       "    <tr>\n",
       "      <th>2</th>\n",
       "      <td>0716889b304ce79c</td>\n",
       "      <td>male</td>\n",
       "      <td>20.0</td>\n",
       "      <td>volga</td>\n",
       "      <td>city with population of less than 50k</td>\n",
       "      <td>named correct date</td>\n",
       "      <td>definitely yes</td>\n",
       "      <td>Putin</td>\n",
       "      <td>several times a week</td>\n",
       "      <td>over 4 hours a day</td>\n",
       "      <td>college</td>\n",
       "      <td>very high</td>\n",
       "      <td>work for hire</td>\n",
       "      <td>law enforcement agency</td>\n",
       "      <td>law enforcement agency</td>\n",
       "      <td>1.301691</td>\n",
       "    </tr>\n",
       "    <tr>\n",
       "      <th>3</th>\n",
       "      <td>07168e28b5cce563</td>\n",
       "      <td>male</td>\n",
       "      <td>22.0</td>\n",
       "      <td>northwestern</td>\n",
       "      <td>city with population of 1 million and higher</td>\n",
       "      <td>not sure or no answer</td>\n",
       "      <td>not sure</td>\n",
       "      <td>Davankov</td>\n",
       "      <td>several times a week</td>\n",
       "      <td>over 4 hours a day</td>\n",
       "      <td>college</td>\n",
       "      <td>very high</td>\n",
       "      <td>unemployed</td>\n",
       "      <td>NaN</td>\n",
       "      <td>NaN</td>\n",
       "      <td>1.538628</td>\n",
       "    </tr>\n",
       "    <tr>\n",
       "      <th>4</th>\n",
       "      <td>0716a563914ce549</td>\n",
       "      <td>male</td>\n",
       "      <td>21.0</td>\n",
       "      <td>southern</td>\n",
       "      <td>city with population of 1 million and higher</td>\n",
       "      <td>named correct date</td>\n",
       "      <td>definitely yes</td>\n",
       "      <td>Putin</td>\n",
       "      <td>does not watch</td>\n",
       "      <td>over 4 hours a day</td>\n",
       "      <td>bachelor degree</td>\n",
       "      <td>very high</td>\n",
       "      <td>employed student</td>\n",
       "      <td>commercial organization</td>\n",
       "      <td>tech, programming, communications</td>\n",
       "      <td>1.967015</td>\n",
       "    </tr>\n",
       "  </tbody>\n",
       "</table>\n",
       "</div>"
      ],
      "text/plain": [
       "                 id   sex   age federal_district  \\\n",
       "0  07169ed8148ce047  male  18.0  north caucasian   \n",
       "1  0716a4f3354cecdd  male  23.0  north caucasian   \n",
       "2  0716889b304ce79c  male  20.0            volga   \n",
       "3  07168e28b5cce563  male  22.0     northwestern   \n",
       "4  0716a563914ce549  male  21.0         southern   \n",
       "\n",
       "                                   type_of_city    knows_election_date  \\\n",
       "0                                       village     named correct date   \n",
       "1                                       village     named correct date   \n",
       "2         city with population of less than 50k     named correct date   \n",
       "3  city with population of 1 million and higher  not sure or no answer   \n",
       "4  city with population of 1 million and higher     named correct date   \n",
       "\n",
       "        will_vote candidate      television_usage      internet_usage  \\\n",
       "0        not sure     Putin  several times a week  over 4 hours a day   \n",
       "1        not sure     Putin      once half a year  over 4 hours a day   \n",
       "2  definitely yes     Putin  several times a week  over 4 hours a day   \n",
       "3        not sure  Davankov  several times a week  over 4 hours a day   \n",
       "4  definitely yes     Putin        does not watch  over 4 hours a day   \n",
       "\n",
       "                     education     income        employment  \\\n",
       "0  incomplete school education  very high      entrepreneur   \n",
       "1                      college  very high     work for hire   \n",
       "2                      college  very high     work for hire   \n",
       "3                      college  very high        unemployed   \n",
       "4              bachelor degree  very high  employed student   \n",
       "\n",
       "                  job_type                       company_type   weight1  \n",
       "0                      NaN                            farming  1.445172  \n",
       "1  commercial organization                              trade  1.445172  \n",
       "2   law enforcement agency             law enforcement agency  1.301691  \n",
       "3                      NaN                                NaN  1.538628  \n",
       "4  commercial organization  tech, programming, communications  1.967015  "
      ]
     },
     "execution_count": 6,
     "metadata": {},
     "output_type": "execute_result"
    }
   ],
   "source": [
    "df.head()"
   ]
  },
  {
   "cell_type": "code",
   "execution_count": 7,
   "metadata": {},
   "outputs": [
    {
     "name": "stdout",
     "output_type": "stream",
     "text": [
      "<class 'pandas.core.frame.DataFrame'>\n",
      "RangeIndex: 1600 entries, 0 to 1599\n",
      "Data columns (total 16 columns):\n",
      " #   Column               Non-Null Count  Dtype  \n",
      "---  ------               --------------  -----  \n",
      " 0   id                   1600 non-null   object \n",
      " 1   sex                  1600 non-null   object \n",
      " 2   age                  1600 non-null   float64\n",
      " 3   federal_district     1600 non-null   object \n",
      " 4   type_of_city         1600 non-null   object \n",
      " 5   knows_election_date  1600 non-null   object \n",
      " 6   will_vote            1600 non-null   object \n",
      " 7   candidate            1600 non-null   object \n",
      " 8   television_usage     1600 non-null   object \n",
      " 9   internet_usage       1600 non-null   object \n",
      " 10  education            1600 non-null   object \n",
      " 11  income               1600 non-null   object \n",
      " 12  employment           1600 non-null   object \n",
      " 13  job_type             692 non-null    object \n",
      " 14  company_type         879 non-null    object \n",
      " 15  weight1              1600 non-null   float64\n",
      "dtypes: float64(2), object(14)\n",
      "memory usage: 200.1+ KB\n"
     ]
    }
   ],
   "source": [
    "df.info()"
   ]
  },
  {
   "cell_type": "code",
   "execution_count": 9,
   "metadata": {},
   "outputs": [
    {
     "data": {
      "text/html": [
       "<div>\n",
       "<style scoped>\n",
       "    .dataframe tbody tr th:only-of-type {\n",
       "        vertical-align: middle;\n",
       "    }\n",
       "\n",
       "    .dataframe tbody tr th {\n",
       "        vertical-align: top;\n",
       "    }\n",
       "\n",
       "    .dataframe thead th {\n",
       "        text-align: right;\n",
       "    }\n",
       "</style>\n",
       "<table border=\"1\" class=\"dataframe\">\n",
       "  <thead>\n",
       "    <tr style=\"text-align: right;\">\n",
       "      <th></th>\n",
       "      <th>age</th>\n",
       "      <th>weight1</th>\n",
       "    </tr>\n",
       "  </thead>\n",
       "  <tbody>\n",
       "    <tr>\n",
       "      <th>count</th>\n",
       "      <td>1600.000000</td>\n",
       "      <td>1600.000000</td>\n",
       "    </tr>\n",
       "    <tr>\n",
       "      <th>mean</th>\n",
       "      <td>49.936250</td>\n",
       "      <td>1.000000</td>\n",
       "    </tr>\n",
       "    <tr>\n",
       "      <th>std</th>\n",
       "      <td>16.901797</td>\n",
       "      <td>0.327084</td>\n",
       "    </tr>\n",
       "    <tr>\n",
       "      <th>min</th>\n",
       "      <td>18.000000</td>\n",
       "      <td>0.468226</td>\n",
       "    </tr>\n",
       "    <tr>\n",
       "      <th>25%</th>\n",
       "      <td>37.000000</td>\n",
       "      <td>0.772224</td>\n",
       "    </tr>\n",
       "    <tr>\n",
       "      <th>50%</th>\n",
       "      <td>49.000000</td>\n",
       "      <td>0.921724</td>\n",
       "    </tr>\n",
       "    <tr>\n",
       "      <th>75%</th>\n",
       "      <td>64.000000</td>\n",
       "      <td>1.158913</td>\n",
       "    </tr>\n",
       "    <tr>\n",
       "      <th>max</th>\n",
       "      <td>90.000000</td>\n",
       "      <td>2.515072</td>\n",
       "    </tr>\n",
       "  </tbody>\n",
       "</table>\n",
       "</div>"
      ],
      "text/plain": [
       "               age      weight1\n",
       "count  1600.000000  1600.000000\n",
       "mean     49.936250     1.000000\n",
       "std      16.901797     0.327084\n",
       "min      18.000000     0.468226\n",
       "25%      37.000000     0.772224\n",
       "50%      49.000000     0.921724\n",
       "75%      64.000000     1.158913\n",
       "max      90.000000     2.515072"
      ]
     },
     "execution_count": 9,
     "metadata": {},
     "output_type": "execute_result"
    }
   ],
   "source": [
    "df.describe()"
   ]
  },
  {
   "cell_type": "code",
   "execution_count": 14,
   "metadata": {},
   "outputs": [
    {
     "data": {
      "text/html": [
       "<div>\n",
       "<style scoped>\n",
       "    .dataframe tbody tr th:only-of-type {\n",
       "        vertical-align: middle;\n",
       "    }\n",
       "\n",
       "    .dataframe tbody tr th {\n",
       "        vertical-align: top;\n",
       "    }\n",
       "\n",
       "    .dataframe thead th {\n",
       "        text-align: right;\n",
       "    }\n",
       "</style>\n",
       "<table border=\"1\" class=\"dataframe\">\n",
       "  <thead>\n",
       "    <tr style=\"text-align: right;\">\n",
       "      <th></th>\n",
       "      <th>id</th>\n",
       "      <th>sex</th>\n",
       "      <th>age</th>\n",
       "      <th>federal_district</th>\n",
       "      <th>type_of_city</th>\n",
       "      <th>knows_election_date</th>\n",
       "      <th>will_vote</th>\n",
       "      <th>candidate</th>\n",
       "      <th>television_usage</th>\n",
       "      <th>internet_usage</th>\n",
       "      <th>education</th>\n",
       "      <th>income</th>\n",
       "      <th>employment</th>\n",
       "      <th>job_type</th>\n",
       "      <th>company_type</th>\n",
       "      <th>weight1</th>\n",
       "    </tr>\n",
       "  </thead>\n",
       "  <tbody>\n",
       "    <tr>\n",
       "      <th>count</th>\n",
       "      <td>1600</td>\n",
       "      <td>1600</td>\n",
       "      <td>1600.000000</td>\n",
       "      <td>1600</td>\n",
       "      <td>1600</td>\n",
       "      <td>1600</td>\n",
       "      <td>1600</td>\n",
       "      <td>1600</td>\n",
       "      <td>1600</td>\n",
       "      <td>1600</td>\n",
       "      <td>1600</td>\n",
       "      <td>1600</td>\n",
       "      <td>1600</td>\n",
       "      <td>692</td>\n",
       "      <td>879</td>\n",
       "      <td>1600.000000</td>\n",
       "    </tr>\n",
       "    <tr>\n",
       "      <th>unique</th>\n",
       "      <td>1600</td>\n",
       "      <td>2</td>\n",
       "      <td>NaN</td>\n",
       "      <td>8</td>\n",
       "      <td>7</td>\n",
       "      <td>4</td>\n",
       "      <td>6</td>\n",
       "      <td>7</td>\n",
       "      <td>6</td>\n",
       "      <td>6</td>\n",
       "      <td>6</td>\n",
       "      <td>6</td>\n",
       "      <td>11</td>\n",
       "      <td>6</td>\n",
       "      <td>21</td>\n",
       "      <td>NaN</td>\n",
       "    </tr>\n",
       "    <tr>\n",
       "      <th>top</th>\n",
       "      <td>07169ed8148ce047</td>\n",
       "      <td>female</td>\n",
       "      <td>NaN</td>\n",
       "      <td>central</td>\n",
       "      <td>city with population of 100-500k</td>\n",
       "      <td>named correct date</td>\n",
       "      <td>definitely yes</td>\n",
       "      <td>Putin</td>\n",
       "      <td>less than 4 hours a day</td>\n",
       "      <td>less than 4 hours a day</td>\n",
       "      <td>college</td>\n",
       "      <td>medium</td>\n",
       "      <td>work for hire</td>\n",
       "      <td>commercial organization</td>\n",
       "      <td>industry, manufacturing</td>\n",
       "      <td>NaN</td>\n",
       "    </tr>\n",
       "    <tr>\n",
       "      <th>freq</th>\n",
       "      <td>1</td>\n",
       "      <td>843</td>\n",
       "      <td>NaN</td>\n",
       "      <td>425</td>\n",
       "      <td>391</td>\n",
       "      <td>1361</td>\n",
       "      <td>1062</td>\n",
       "      <td>1128</td>\n",
       "      <td>490</td>\n",
       "      <td>613</td>\n",
       "      <td>690</td>\n",
       "      <td>949</td>\n",
       "      <td>535</td>\n",
       "      <td>445</td>\n",
       "      <td>138</td>\n",
       "      <td>NaN</td>\n",
       "    </tr>\n",
       "    <tr>\n",
       "      <th>mean</th>\n",
       "      <td>NaN</td>\n",
       "      <td>NaN</td>\n",
       "      <td>49.936250</td>\n",
       "      <td>NaN</td>\n",
       "      <td>NaN</td>\n",
       "      <td>NaN</td>\n",
       "      <td>NaN</td>\n",
       "      <td>NaN</td>\n",
       "      <td>NaN</td>\n",
       "      <td>NaN</td>\n",
       "      <td>NaN</td>\n",
       "      <td>NaN</td>\n",
       "      <td>NaN</td>\n",
       "      <td>NaN</td>\n",
       "      <td>NaN</td>\n",
       "      <td>1.000000</td>\n",
       "    </tr>\n",
       "    <tr>\n",
       "      <th>std</th>\n",
       "      <td>NaN</td>\n",
       "      <td>NaN</td>\n",
       "      <td>16.901797</td>\n",
       "      <td>NaN</td>\n",
       "      <td>NaN</td>\n",
       "      <td>NaN</td>\n",
       "      <td>NaN</td>\n",
       "      <td>NaN</td>\n",
       "      <td>NaN</td>\n",
       "      <td>NaN</td>\n",
       "      <td>NaN</td>\n",
       "      <td>NaN</td>\n",
       "      <td>NaN</td>\n",
       "      <td>NaN</td>\n",
       "      <td>NaN</td>\n",
       "      <td>0.327084</td>\n",
       "    </tr>\n",
       "    <tr>\n",
       "      <th>min</th>\n",
       "      <td>NaN</td>\n",
       "      <td>NaN</td>\n",
       "      <td>18.000000</td>\n",
       "      <td>NaN</td>\n",
       "      <td>NaN</td>\n",
       "      <td>NaN</td>\n",
       "      <td>NaN</td>\n",
       "      <td>NaN</td>\n",
       "      <td>NaN</td>\n",
       "      <td>NaN</td>\n",
       "      <td>NaN</td>\n",
       "      <td>NaN</td>\n",
       "      <td>NaN</td>\n",
       "      <td>NaN</td>\n",
       "      <td>NaN</td>\n",
       "      <td>0.468226</td>\n",
       "    </tr>\n",
       "    <tr>\n",
       "      <th>25%</th>\n",
       "      <td>NaN</td>\n",
       "      <td>NaN</td>\n",
       "      <td>37.000000</td>\n",
       "      <td>NaN</td>\n",
       "      <td>NaN</td>\n",
       "      <td>NaN</td>\n",
       "      <td>NaN</td>\n",
       "      <td>NaN</td>\n",
       "      <td>NaN</td>\n",
       "      <td>NaN</td>\n",
       "      <td>NaN</td>\n",
       "      <td>NaN</td>\n",
       "      <td>NaN</td>\n",
       "      <td>NaN</td>\n",
       "      <td>NaN</td>\n",
       "      <td>0.772224</td>\n",
       "    </tr>\n",
       "    <tr>\n",
       "      <th>50%</th>\n",
       "      <td>NaN</td>\n",
       "      <td>NaN</td>\n",
       "      <td>49.000000</td>\n",
       "      <td>NaN</td>\n",
       "      <td>NaN</td>\n",
       "      <td>NaN</td>\n",
       "      <td>NaN</td>\n",
       "      <td>NaN</td>\n",
       "      <td>NaN</td>\n",
       "      <td>NaN</td>\n",
       "      <td>NaN</td>\n",
       "      <td>NaN</td>\n",
       "      <td>NaN</td>\n",
       "      <td>NaN</td>\n",
       "      <td>NaN</td>\n",
       "      <td>0.921724</td>\n",
       "    </tr>\n",
       "    <tr>\n",
       "      <th>75%</th>\n",
       "      <td>NaN</td>\n",
       "      <td>NaN</td>\n",
       "      <td>64.000000</td>\n",
       "      <td>NaN</td>\n",
       "      <td>NaN</td>\n",
       "      <td>NaN</td>\n",
       "      <td>NaN</td>\n",
       "      <td>NaN</td>\n",
       "      <td>NaN</td>\n",
       "      <td>NaN</td>\n",
       "      <td>NaN</td>\n",
       "      <td>NaN</td>\n",
       "      <td>NaN</td>\n",
       "      <td>NaN</td>\n",
       "      <td>NaN</td>\n",
       "      <td>1.158913</td>\n",
       "    </tr>\n",
       "    <tr>\n",
       "      <th>max</th>\n",
       "      <td>NaN</td>\n",
       "      <td>NaN</td>\n",
       "      <td>90.000000</td>\n",
       "      <td>NaN</td>\n",
       "      <td>NaN</td>\n",
       "      <td>NaN</td>\n",
       "      <td>NaN</td>\n",
       "      <td>NaN</td>\n",
       "      <td>NaN</td>\n",
       "      <td>NaN</td>\n",
       "      <td>NaN</td>\n",
       "      <td>NaN</td>\n",
       "      <td>NaN</td>\n",
       "      <td>NaN</td>\n",
       "      <td>NaN</td>\n",
       "      <td>2.515072</td>\n",
       "    </tr>\n",
       "  </tbody>\n",
       "</table>\n",
       "</div>"
      ],
      "text/plain": [
       "                      id     sex          age federal_district  \\\n",
       "count               1600    1600  1600.000000             1600   \n",
       "unique              1600       2          NaN                8   \n",
       "top     07169ed8148ce047  female          NaN          central   \n",
       "freq                   1     843          NaN              425   \n",
       "mean                 NaN     NaN    49.936250              NaN   \n",
       "std                  NaN     NaN    16.901797              NaN   \n",
       "min                  NaN     NaN    18.000000              NaN   \n",
       "25%                  NaN     NaN    37.000000              NaN   \n",
       "50%                  NaN     NaN    49.000000              NaN   \n",
       "75%                  NaN     NaN    64.000000              NaN   \n",
       "max                  NaN     NaN    90.000000              NaN   \n",
       "\n",
       "                            type_of_city knows_election_date       will_vote  \\\n",
       "count                               1600                1600            1600   \n",
       "unique                                 7                   4               6   \n",
       "top     city with population of 100-500k  named correct date  definitely yes   \n",
       "freq                                 391                1361            1062   \n",
       "mean                                 NaN                 NaN             NaN   \n",
       "std                                  NaN                 NaN             NaN   \n",
       "min                                  NaN                 NaN             NaN   \n",
       "25%                                  NaN                 NaN             NaN   \n",
       "50%                                  NaN                 NaN             NaN   \n",
       "75%                                  NaN                 NaN             NaN   \n",
       "max                                  NaN                 NaN             NaN   \n",
       "\n",
       "       candidate         television_usage           internet_usage education  \\\n",
       "count       1600                     1600                     1600      1600   \n",
       "unique         7                        6                        6         6   \n",
       "top        Putin  less than 4 hours a day  less than 4 hours a day   college   \n",
       "freq        1128                      490                      613       690   \n",
       "mean         NaN                      NaN                      NaN       NaN   \n",
       "std          NaN                      NaN                      NaN       NaN   \n",
       "min          NaN                      NaN                      NaN       NaN   \n",
       "25%          NaN                      NaN                      NaN       NaN   \n",
       "50%          NaN                      NaN                      NaN       NaN   \n",
       "75%          NaN                      NaN                      NaN       NaN   \n",
       "max          NaN                      NaN                      NaN       NaN   \n",
       "\n",
       "        income     employment                 job_type  \\\n",
       "count     1600           1600                      692   \n",
       "unique       6             11                        6   \n",
       "top     medium  work for hire  commercial organization   \n",
       "freq       949            535                      445   \n",
       "mean       NaN            NaN                      NaN   \n",
       "std        NaN            NaN                      NaN   \n",
       "min        NaN            NaN                      NaN   \n",
       "25%        NaN            NaN                      NaN   \n",
       "50%        NaN            NaN                      NaN   \n",
       "75%        NaN            NaN                      NaN   \n",
       "max        NaN            NaN                      NaN   \n",
       "\n",
       "                   company_type      weight1  \n",
       "count                       879  1600.000000  \n",
       "unique                       21          NaN  \n",
       "top     industry, manufacturing          NaN  \n",
       "freq                        138          NaN  \n",
       "mean                        NaN     1.000000  \n",
       "std                         NaN     0.327084  \n",
       "min                         NaN     0.468226  \n",
       "25%                         NaN     0.772224  \n",
       "50%                         NaN     0.921724  \n",
       "75%                         NaN     1.158913  \n",
       "max                         NaN     2.515072  "
      ]
     },
     "execution_count": 14,
     "metadata": {},
     "output_type": "execute_result"
    }
   ],
   "source": [
    "df.describe(include = 'all')"
   ]
  },
  {
   "cell_type": "code",
   "execution_count": 15,
   "metadata": {},
   "outputs": [
    {
     "data": {
      "text/plain": [
       "0"
      ]
     },
     "execution_count": 15,
     "metadata": {},
     "output_type": "execute_result"
    }
   ],
   "source": [
    "df.duplicated().sum()"
   ]
  },
  {
   "cell_type": "code",
   "execution_count": 16,
   "metadata": {},
   "outputs": [
    {
     "data": {
      "text/plain": [
       "id                      object\n",
       "sex                     object\n",
       "age                    float64\n",
       "federal_district        object\n",
       "type_of_city            object\n",
       "knows_election_date     object\n",
       "will_vote               object\n",
       "candidate               object\n",
       "television_usage        object\n",
       "internet_usage          object\n",
       "education               object\n",
       "income                  object\n",
       "employment              object\n",
       "job_type                object\n",
       "company_type            object\n",
       "weight1                float64\n",
       "dtype: object"
      ]
     },
     "execution_count": 16,
     "metadata": {},
     "output_type": "execute_result"
    }
   ],
   "source": [
    "df.dtypes"
   ]
  },
  {
   "cell_type": "code",
   "execution_count": 17,
   "metadata": {},
   "outputs": [
    {
     "data": {
      "text/plain": [
       "0         male\n",
       "1         male\n",
       "2         male\n",
       "3         male\n",
       "4         male\n",
       "         ...  \n",
       "1595      male\n",
       "1596    female\n",
       "1597    female\n",
       "1598    female\n",
       "1599    female\n",
       "Name: sex, Length: 1600, dtype: object"
      ]
     },
     "execution_count": 17,
     "metadata": {},
     "output_type": "execute_result"
    }
   ],
   "source": [
    "df['sex']"
   ]
  },
  {
   "cell_type": "code",
   "execution_count": 18,
   "metadata": {},
   "outputs": [
    {
     "data": {
      "text/plain": [
       "array(['north caucasian', 'volga', 'northwestern', 'southern', 'central',\n",
       "       'ural', 'siberian', 'far eastern'], dtype=object)"
      ]
     },
     "execution_count": 18,
     "metadata": {},
     "output_type": "execute_result"
    }
   ],
   "source": [
    "df.federal_district.unique()"
   ]
  },
  {
   "cell_type": "code",
   "execution_count": 19,
   "metadata": {},
   "outputs": [
    {
     "data": {
      "text/plain": [
       "array(['village', 'city with population of less than 50k',\n",
       "       'city with population of 1 million and higher',\n",
       "       'city with population of 50-100k',\n",
       "       'city with population of 100-500k', 'settlement',\n",
       "       'city with population of 500-950k'], dtype=object)"
      ]
     },
     "execution_count": 19,
     "metadata": {},
     "output_type": "execute_result"
    }
   ],
   "source": [
    "df.type_of_city.unique()"
   ]
  },
  {
   "cell_type": "code",
   "execution_count": 20,
   "metadata": {},
   "outputs": [
    {
     "data": {
      "text/plain": [
       "array(['not sure', 'definitely yes', 'likely no', 'definitely no',\n",
       "       'likely yes', 'struggle to answer'], dtype=object)"
      ]
     },
     "execution_count": 20,
     "metadata": {},
     "output_type": "execute_result"
    }
   ],
   "source": [
    "df.will_vote.unique() "
   ]
  },
  {
   "cell_type": "code",
   "execution_count": 21,
   "metadata": {},
   "outputs": [
    {
     "data": {
      "text/plain": [
       "array(['incomplete school education', 'college', 'bachelor degree',\n",
       "       'school', 'academic degree', 'no school education'], dtype=object)"
      ]
     },
     "execution_count": 21,
     "metadata": {},
     "output_type": "execute_result"
    }
   ],
   "source": [
    "df.education.unique()"
   ]
  },
  {
   "cell_type": "code",
   "execution_count": 22,
   "metadata": {},
   "outputs": [
    {
     "data": {
      "text/plain": [
       "array(['very high', 'high', 'medium', 'low', 'very low', 'hard to say'],\n",
       "      dtype=object)"
      ]
     },
     "execution_count": 22,
     "metadata": {},
     "output_type": "execute_result"
    }
   ],
   "source": [
    "df.income.unique()"
   ]
  },
  {
   "cell_type": "code",
   "execution_count": 23,
   "metadata": {},
   "outputs": [
    {
     "data": {
      "text/plain": [
       "Index(['id', 'sex', 'age', 'federal_district', 'type_of_city',\n",
       "       'knows_election_date', 'will_vote', 'candidate', 'television_usage',\n",
       "       'internet_usage', 'education', 'income', 'employment', 'job_type',\n",
       "       'company_type', 'weight1'],\n",
       "      dtype='object')"
      ]
     },
     "execution_count": 23,
     "metadata": {},
     "output_type": "execute_result"
    }
   ],
   "source": [
    "df.columns"
   ]
  },
  {
   "cell_type": "code",
   "execution_count": 25,
   "metadata": {},
   "outputs": [
    {
     "data": {
      "text/plain": [
       "<Axes: xlabel='income', ylabel='will_vote'>"
      ]
     },
     "execution_count": 25,
     "metadata": {},
     "output_type": "execute_result"
    },
    {
     "data": {
      "image/png": "[encoded data removed]",
      "text/plain": [
       "<Figure size 640x480 with 1 Axes>"
      ]
     },
     "metadata": {},
     "output_type": "display_data"
    }
   ],
   "source": [
    "sns.scatterplot(x = 'income', y = 'will_vote', data = df, hue = 'age', palette = 'coolwarm')"
   ]
  },
  {
   "cell_type": "code",
   "execution_count": null,
   "metadata": {},
   "outputs": [],
   "source": [
    "#insights--> people with high income vote more"
   ]
  },
  {
   "cell_type": "code",
   "execution_count": 28,
   "metadata": {},
   "outputs": [
    {
     "data": {
      "text/plain": [
       "array(['incomplete school education', 'college', 'bachelor degree',\n",
       "       'school', 'academic degree', 'no school education'], dtype=object)"
      ]
     },
     "execution_count": 28,
     "metadata": {},
     "output_type": "execute_result"
    }
   ],
   "source": [
    "df.education.unique()"
   ]
  },
  {
   "cell_type": "code",
   "execution_count": 26,
   "metadata": {},
   "outputs": [
    {
     "data": {
      "text/plain": [
       "<Axes: xlabel='education', ylabel='will_vote'>"
      ]
     },
     "execution_count": 26,
     "metadata": {},
     "output_type": "execute_result"
    },
    {
     "data": {
      "image/png": "[encoded data removed]",
      "text/plain": [
       "<Figure size 640x480 with 1 Axes>"
      ]
     },
     "metadata": {},
     "output_type": "display_data"
    }
   ],
   "source": [
    "sns.scatterplot(x = 'education', y = 'will_vote', data = df, hue = 'age', palette = 'coolwarm')"
   ]
  },
  {
   "cell_type": "code",
   "execution_count": 32,
   "metadata": {},
   "outputs": [
    {
     "data": {
      "image/png": "[encoded data removed]",
      "text/plain": [
       "<Figure size 640x480 with 1 Axes>"
      ]
     },
     "metadata": {},
     "output_type": "display_data"
    }
   ],
   "source": [
    "plt.hist(df['will_vote'].dropna(), bins = 30, color='red', edgecolor = 'black')\n",
    "plt.title(\"Dist of age\")\n",
    "plt.xlabel('Age')\n",
    "plt.ylabel('Frequency')\n",
    "plt.show()"
   ]
  },
  {
   "cell_type": "code",
   "execution_count": 33,
   "metadata": {},
   "outputs": [],
   "source": [
    "#insights--> more people willing to vote --> faith in voting system"
   ]
  },
  {
   "cell_type": "code",
   "execution_count": 35,
   "metadata": {},
   "outputs": [
    {
     "data": {
      "image/png": "[encoded data removed]",
      "text/plain": [
       "<Figure size 640x480 with 1 Axes>"
      ]
     },
     "metadata": {},
     "output_type": "display_data"
    }
   ],
   "source": [
    "plt.hist(df['education'].dropna(), bins = 30, color='green', edgecolor = 'black')\n",
    "plt.title(\"Dist of age\")\n",
    "plt.xlabel('Age')\n",
    "plt.ylabel('Frequency')\n",
    "plt.show()"
   ]
  },
  {
   "cell_type": "code",
   "execution_count": 30,
   "metadata": {},
   "outputs": [
    {
     "data": {
      "image/png": "[encoded data removed]",
      "text/plain": [
       "<Figure size 640x480 with 1 Axes>"
      ]
     },
     "metadata": {},
     "output_type": "display_data"
    }
   ],
   "source": [
    "plt.hist(df['age'].dropna(), bins = 30, color='skyblue', edgecolor = 'black')\n",
    "plt.title(\"Dist of age\")\n",
    "plt.xlabel('Age')\n",
    "plt.ylabel('Frequency')\n",
    "plt.show()"
   ]
  },
  {
   "cell_type": "code",
   "execution_count": null,
   "metadata": {},
   "outputs": [],
   "source": []
  },
  {
   "cell_type": "code",
   "execution_count": null,
   "metadata": {},
   "outputs": [],
   "source": []
  },
  {
   "cell_type": "code",
   "execution_count": null,
   "metadata": {},
   "outputs": [],
   "source": []
  },
  {
   "cell_type": "code",
   "execution_count": null,
   "metadata": {},
   "outputs": [],
   "source": []
  }
 ],
 "metadata": {
  "kernelspec": {
   "display_name": "Python 3",
   "language": "python",
   "name": "python3"
  },
  "language_info": {
   "codemirror_mode": {
    "name": "ipython",
    "version": 3
   },
   "file_extension": ".py",
   "mimetype": "text/x-python",
   "name": "python",
   "nbconvert_exporter": "python",
   "pygments_lexer": "ipython3",
   "version": "3.11.5"
  }
 },
 "nbformat": 4,
 "nbformat_minor": 2
}
